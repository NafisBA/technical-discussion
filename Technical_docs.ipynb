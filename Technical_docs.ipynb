{
  "nbformat": 4,
  "nbformat_minor": 0,
  "metadata": {
    "colab": {
      "provenance": [],
      "authorship_tag": "ABX9TyO/oxwszAvebdkvH/RMyAvn",
      "include_colab_link": true
    },
    "kernelspec": {
      "name": "python3",
      "display_name": "Python 3"
    },
    "language_info": {
      "name": "python"
    }
  },
  "cells": [
    {
      "cell_type": "markdown",
      "metadata": {
        "id": "view-in-github",
        "colab_type": "text"
      },
      "source": [
        "<a href=\"https://colab.research.google.com/github/NafisBA/technical-discussion/blob/main/Technical_docs.ipynb\" target=\"_parent\"><img src=\"https://colab.research.google.com/assets/colab-badge.svg\" alt=\"Open In Colab\"/></a>"
      ]
    },
    {
      "cell_type": "markdown",
      "source": [
        "##Ingest"
      ],
      "metadata": {
        "id": "hrfEZfxy2pNB"
      }
    },
    {
      "cell_type": "code",
      "execution_count": 2,
      "metadata": {
        "colab": {
          "base_uri": "https://localhost:8080/"
        },
        "id": "1oF0xMLF10cZ",
        "outputId": "043fc6c5-e3f5-4fcc-aba3-1061c92dc168"
      },
      "outputs": [
        {
          "output_type": "stream",
          "name": "stdout",
          "text": [
            "hi\n"
          ]
        }
      ],
      "source": [
        "def hello():\n",
        "    print(\"hi\")\n",
        "hello()"
      ]
    },
    {
      "cell_type": "markdown",
      "source": [
        "## EDA"
      ],
      "metadata": {
        "id": "oiRYbKPB2sHO"
      }
    },
    {
      "cell_type": "markdown",
      "source": [
        "## This is a markdown heading\n",
        "\n",
        "* one\n",
        "* two"
      ],
      "metadata": {
        "id": "a6RNjuYi229B"
      }
    },
    {
      "cell_type": "markdown",
      "source": [
        "## Modeling"
      ],
      "metadata": {
        "id": "xHxiJSs23oi3"
      }
    },
    {
      "cell_type": "code",
      "source": [],
      "metadata": {
        "id": "NAx3_ebI3qB6"
      },
      "execution_count": null,
      "outputs": []
    }
  ]
}